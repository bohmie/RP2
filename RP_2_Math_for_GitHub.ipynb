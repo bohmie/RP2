{
  "nbformat": 4,
  "nbformat_minor": 0,
  "metadata": {
    "colab": {
      "provenance": []
    },
    "kernelspec": {
      "name": "python3",
      "display_name": "Python 3"
    },
    "language_info": {
      "name": "python"
    }
  },
  "cells": [
    {
      "cell_type": "code",
      "source": [
        "import numpy as np\n",
        "import matplotlib.pyplot as plt\n",
        "from collections import OrderedDict"
      ],
      "metadata": {
        "id": "_A3YIJmSEYoq"
      },
      "execution_count": null,
      "outputs": []
    },
    {
      "cell_type": "markdown",
      "source": [
        "This is the code for rate of function."
      ],
      "metadata": {
        "id": "EJau7kEKE-KE"
      }
    },
    {
      "cell_type": "code",
      "execution_count": null,
      "metadata": {
        "id": "HOqNaZeFECdM"
      },
      "outputs": [],
      "source": [
        "h = 8         #half life, changeable for different rates\n",
        "anot = 120   #initial amount, not required for this one\n",
        "d = 0\n",
        "\n",
        "\n",
        "def rate(t, halflife=h):    #function of rate\n",
        " return (t/h)\n",
        "\n",
        "\n",
        "x_axis=np.linspace(0,40,100)\n",
        "plt.plot(x_axis, rate(x_axis))\n",
        "plt.title('Rate of MDMA Halving in Body Over Time')\n",
        "plt.grid()\n",
        "plt.xlabel('Time passed $(hr)$')\n",
        "plt.ylabel('Number of Times MDMA in System is Halved')"
      ]
    },
    {
      "cell_type": "markdown",
      "source": [
        "This is the code for the cobweb, inverse of function, d value calculations, equilibriums of d values, and the graphs of everything.\n",
        "\n",
        "Cobweb function code was taken from Dr. Gregory Cousins’ provided code."
      ],
      "metadata": {
        "id": "T-INbNu_FSN4"
      }
    },
    {
      "cell_type": "code",
      "source": [
        "h = 8         #half life\n",
        "a_not = 120   #initial amount outside of the defined function\n",
        "d = 0        #changeable d value for a constant amount of\n",
        "             #MDMA ingested every hour\n",
        "\n",
        "\n",
        "def amountMDMA(x):\n",
        " return x*((0.5)**(1/h)) + d\n",
        "\n",
        "\n",
        "def plot_cobweb(f, anot, steps):\n",
        "\n",
        "\n",
        "   cobwebs_x=[anot]\n",
        "   cobwebs_y=[f(anot)]\n",
        "\n",
        "\n",
        "   for i in range(1,steps):\n",
        "       if i%2==1:\n",
        "           cobwebs_x.append(cobwebs_y[i-1])\n",
        "           cobwebs_y.append(cobwebs_y[i-1])\n",
        "       elif i%2==0:\n",
        "           cobwebs_x.append(cobwebs_y[i-1])\n",
        "           cobwebs_y.append(f(cobwebs_x[i]))\n",
        "\n",
        "\n",
        "   xvalues=np.linspace(0, max(cobwebs_x), 500)\n",
        "   plt.title(\"Plot of the Updating and Linear Functions with Cobwebbing\")\n",
        "   plt.plot(xvalues,xvalues, label=\"y=x\")\n",
        "   plt.plot(xvalues, f(xvalues), label=\"updating function\")\n",
        "   plt.grid()\n",
        "\n",
        "\n",
        "   plt.plot(cobwebs_x,cobwebs_y)\n",
        "   #plt.plot(cobwebs_y,cobwebs_x)\n",
        "\n",
        "\n",
        "   plt.legend()\n",
        "   plt.draw()\n",
        "\n",
        "\n",
        "   plt.figure()\n",
        "\n",
        "\n",
        "   distinct_solutions=list(OrderedDict.fromkeys(cobwebs_x))\n",
        "   plt.scatter(list(range(len(distinct_solutions))),distinct_solutions)\n",
        "   #plt.scatter(distinct_solutions, list(range(len(distinct_solutions))))\n",
        "   if int(distinct_solutions[-1])<anot:\n",
        "     print(\"Equilibrium value:\", min(distinct_solutions), \"mg\")\n",
        "   if int(distinct_solutions[-1])>anot:\n",
        "     print(\"Equilibrium value:\", max(distinct_solutions), \"mg\")\n",
        "\n",
        "\n",
        "   Amount_of_MDMA_needed = 1\n",
        "   Time_passed = ((np.log(Amount_of_MDMA_needed/anot))/(np.log(0.5)))*h\n",
        "   print(\"\\n\", \"Time Taken to Reach 1 mg of Substance in body:\",\n",
        "   Time_passed, \"hours\", \"\\n\")\n",
        "\n",
        "\n",
        "\n",
        "   plt.draw()\n",
        "   plt.xlabel('Time Passing $(hr)$')\n",
        "   plt.ylabel('Amount of MDMA $(mg)$')\n",
        "\n",
        "\n",
        "   \"\"\"plt.xlabel('Amount of MDMA $(mg)$')\n",
        "   plt.ylabel('Time Passing $(hr)$')\"\"\"\n",
        "\n",
        "\n",
        "   plt.title('Elimination of MDMA over time $(mg/hr)$')\n",
        "   plt.grid()\n",
        "\n",
        "\n",
        "   #plt.xlim(-2, 42)\n",
        "   plt.show()\n",
        "\n",
        "\n",
        "plot_cobweb(amountMDMA, a_not, 150)\n"
      ],
      "metadata": {
        "id": "ph0eNd9BFOjY"
      },
      "execution_count": null,
      "outputs": []
    }
  ]
}